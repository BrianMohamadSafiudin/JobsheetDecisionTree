{
  "nbformat": 4,
  "nbformat_minor": 0,
  "metadata": {
    "colab": {
      "provenance": [],
      "authorship_tag": "ABX9TyOWS5PEhNJHlyzPCFU7kLRd",
      "include_colab_link": true
    },
    "kernelspec": {
      "name": "python3",
      "display_name": "Python 3"
    },
    "language_info": {
      "name": "python"
    }
  },
  "cells": [
    {
      "cell_type": "markdown",
      "metadata": {
        "id": "view-in-github",
        "colab_type": "text"
      },
      "source": [
        "<a href=\"https://colab.research.google.com/github/BrianMohamadSafiudin/JobsheetDecisionTree/blob/main/05_Brian_Mohamad_Safiudin_Decision_Tree.ipynb\" target=\"_parent\"><img src=\"https://colab.research.google.com/assets/colab-badge.svg\" alt=\"Open In Colab\"/></a>"
      ]
    },
    {
      "cell_type": "markdown",
      "source": [
        "Brian Mohamad Safiudin\n",
        "==\n",
        "\n",
        "TI-2C ( 2141720133 )   \n",
        "==\n",
        "\n",
        "Jobsheet Decision Tree\n",
        "== "
      ],
      "metadata": {
        "id": "EnNrEV0Trdp0"
      }
    },
    {
      "cell_type": "code",
      "execution_count": 1,
      "metadata": {
        "id": "NUmpA4SnbCVf"
      },
      "outputs": [],
      "source": [
        "## import library decision tree\n",
        "import numpy as np\n",
        "import pandas as pd\n",
        "eps = np.finfo(float).eps\n",
        "from numpy import log2 as log"
      ]
    },
    {
      "cell_type": "code",
      "source": [
        "## dataset\n",
        "outlook = 'overcast,overcast,overcast,overcast,rainy,rainy,rainy,rainy,rainy,sunny,sunny,sunny,sunny,sunny'.split(',')\n",
        "temp = 'hot,cool,mild,hot,mild,cool,cool,mild,mild,hot,hot,mild,cool,mild'.split(',')\n",
        "humidity = 'high,normal,high,normal,high,normal,normal,normal,high,high,high,high,normal,normal'.split(',')\n",
        "windy = 'FALSE,TRUE,TRUE,FALSE,FALSE,FALSE,TRUE,FALSE,TRUE,FALSE,TRUE,FALSE,FALSE,TRUE'.split(',')\n",
        "play = 'yes,yes,yes,yes,yes,yes,no,yes,no,no,no,no,yes,yes'.split(',')"
      ],
      "metadata": {
        "id": "eJQxf1Lch_Ot"
      },
      "execution_count": 2,
      "outputs": []
    },
    {
      "cell_type": "code",
      "source": [
        "## dataframe\n",
        "dataset = {'outlook':outlook,'temp':temp,'humidity':humidity,'windy':windy,'play':play}\n",
        "df = pd.DataFrame(dataset,columns=['outlook','temp','humidity','windy','play'])"
      ],
      "metadata": {
        "id": "u1Ig5OjAh6WZ"
      },
      "execution_count": 3,
      "outputs": []
    },
    {
      "cell_type": "code",
      "source": [
        "##1. calculate entropy o the whole dataset\n",
        "\n",
        "entropy_node = 0 #Initialize Entropy\n",
        "values = df.play.unique() #Unique objects - 'Yes', 'No'\n",
        "for value in values:\n",
        "  fraction = df.play.value_counts()[value]/len(df.play)\n",
        "  entropy_node += -fraction*np.log2(fraction)\n",
        "entropy_node"
      ],
      "metadata": {
        "colab": {
          "base_uri": "https://localhost:8080/"
        },
        "id": "dIOnxy8YiGCX",
        "outputId": "69a93d99-8a1b-462d-a485-f578f583d0ea"
      },
      "execution_count": 4,
      "outputs": [
        {
          "output_type": "execute_result",
          "data": {
            "text/plain": [
              "0.9402859586706309"
            ]
          },
          "metadata": {},
          "execution_count": 4
        }
      ]
    },
    {
      "cell_type": "code",
      "source": [
        "## mencari entropy setiap attribute\n",
        "def ent(df, attribute):\n",
        "  target_variables = df.play.unique() #This gives all 'Yes' and 'No'\n",
        "  variables = df[attribute].unique() #This gives different features in that attribute (like 'Sweet')\n",
        "\n",
        "  entropy_attribute = 0\n",
        "  for variable in variables:\n",
        "    entropy_each_feature = 0\n",
        "    for target_variable in target_variables:\n",
        "      num = len(df[attribute][df[attribute]==variable][df.play ==target_vaiable]) #numerator\n",
        "      den = len(df[attribute][df[attribute]==variable]) #denominator\n",
        "      fraction = num/(den+eps) #pi\n",
        "      entropy_each_feature += -fraction*log(fraction+eps) #This calculates entropy for one feature like 'Sweet'\n",
        "    fraction2 = den/len(df)\n",
        "    entropy_attribute += -fraction2*entropy_each_feature #sums up all the ntropy ETaste\n",
        "  \n",
        "  return(abs(entropy_attribute))\n",
        "  ## memnyimpan entropy setiap attribute\n",
        "  a_entropy = {k:ent(df,k) for k in df.keys()[:-1]}\n",
        "  a_entropy"
      ],
      "metadata": {
        "id": "K7dcQTuIiYj4"
      },
      "execution_count": 5,
      "outputs": []
    },
    {
      "cell_type": "code",
      "source": [
        "## menghitung information gain setiap attribute\n",
        "def ig(e_dataset,e_attr):\n",
        "  return(e_dataset-e_ettr)\n",
        "  #entropy_node = entropy of dataset\n",
        "  #a_entropy[k] = entropy of k(th) attr\n",
        "  IG = {k:ig(entropy_node,a_entropy[k]) for k in a_entropy}\n",
        "  IG"
      ],
      "metadata": {
        "id": "E65lkyZIiud-"
      },
      "execution_count": 6,
      "outputs": []
    },
    {
      "cell_type": "markdown",
      "source": [
        "Code yang sudah complete"
      ],
      "metadata": {
        "id": "Kak6ymn3pRfB"
      }
    },
    {
      "cell_type": "code",
      "source": [
        "## import library decision tree\n",
        "import numpy as np\n",
        "import pandas as pd\n",
        "eps = np.finfo(float).eps\n",
        "from numpy import log2 as log\n",
        "\n",
        "## dataset\n",
        "outlook = 'overcast,overcast,overcast,overcast,rainy,rainy,rainy,rainy,rainy,sunny,sunny,sunny,sunny,sunny'.split(',')\n",
        "temp = 'hot,cool,mild,hot,mild,cool,cool,mild,mild,hot,hot,mild,cool,mild'.split(',')\n",
        "humidity = 'high,normal,high,normal,high,normal,normal,normal,high,high,high,high,normal,normal'.split(',')\n",
        "windy = 'FALSE,TRUE,TRUE,FALSE,FALSE,FALSE,TRUE,FALSE,TRUE,FALSE,TRUE,FALSE,FALSE,TRUE'.split(',')\n",
        "play = 'yes,yes,yes,yes,yes,yes,no,yes,no,no,no,no,yes,yes'.split(',')\n",
        "\n",
        "## dataframe\n",
        "dataset = {'outlook':outlook,'temp':temp,'humidity':humidity,'windy':windy,'play':play}\n",
        "df = pd.DataFrame(dataset,columns=['outlook','temp','humidity','windy','play'])\n",
        "\n",
        "def find_entropy(df):\n",
        "  Class = df.keys()[-1] #To make the code generic, changing target variable class name\n",
        "  entropy = 0\n",
        "  values = df[Class].unique()\n",
        "  for value in values:\n",
        "    fraction = df[Class].value_counts()[value]/len(df[Class])\n",
        "    entropy += -fraction*np.log2(fraction)\n",
        "  return entropy"
      ],
      "metadata": {
        "id": "Chh_FTpbkT_k"
      },
      "execution_count": 7,
      "outputs": []
    },
    {
      "cell_type": "code",
      "source": [
        "def find_entropy_attribute(df,attribute):\n",
        "  Class = df.keys()[-1] #To make the code generic, changing target variable class name\n",
        "  target_variables = df[Class].unique() #this gives all 'Yes' and 'No'\n",
        "  variables = df[attribute].unique() #This gives different features in that attribute (like 'Hot','Cold' in Temperature)\n",
        "  entropy2 = 0\n",
        "  for variable in variables:\n",
        "    entropy = 0\n",
        "    for target_variable in target_variables:\n",
        "      num = len(df[attribute][df[attribute]==variable][df.play ==target_variable]) #numerator\n",
        "      den = len(df[attribute][df[attribute]==variable]) #denominator\n",
        "      fraction = num/(den+eps) #pi\n",
        "      entropy += -fraction*log(fraction+eps) #This calculates entropy for one feature like 'Sweet'\n",
        "    fraction2 = den/len(df)\n",
        "    entropy2 += -fraction2*entropy\n",
        "  return abs(entropy2)\n",
        "\n",
        "def find_winner(df):\n",
        "  Entropy_att = []\n",
        "  IG = []\n",
        "  for key in df.keys()[:-1]:\n",
        "    #Entropy_att.append(find_entropy_attribute(df,key))\n",
        "    IG.append(find_entropy(df)-find_entropy_attribute(df,key))\n",
        "  return df.keys()[:-1][np.argmax(IG)]\n",
        "\n",
        "def get_subtable(df, node, value):\n",
        "  return df[df[node] == value].reset_index(drop=True)"
      ],
      "metadata": {
        "id": "wgTM0a3inx0I"
      },
      "execution_count": 8,
      "outputs": []
    },
    {
      "cell_type": "code",
      "source": [
        "def buildTree(df,tree=None):\n",
        "  Class = df.keys()[-1]\n",
        "  node = find_winner(df)\n",
        "  attValue = np.unique(df[node])\n",
        "  if tree is None:\n",
        "    tree={}\n",
        "    tree[node] = {}\n",
        "  \n",
        "  for value in attValue:\n",
        "    subtable = get_subtable(df,node,value)\n",
        "    clValue,counts = np.unique(subtable[Class],return_counts=True)\n",
        "\n",
        "    if len(counts)==1:\n",
        "      tree[node][value] = clValue[0]\n",
        "    else:\n",
        "      tree[node][value] = buildTree(subtable)\n",
        "  return tree"
      ],
      "metadata": {
        "id": "y1oYVeSKoIPE"
      },
      "execution_count": 9,
      "outputs": []
    },
    {
      "cell_type": "markdown",
      "source": [
        "Cara menggunakan code"
      ],
      "metadata": {
        "id": "FmWoLdk4pgSI"
      }
    },
    {
      "cell_type": "code",
      "source": [
        "pip install pprintpp"
      ],
      "metadata": {
        "colab": {
          "base_uri": "https://localhost:8080/"
        },
        "id": "CeayhcsnpZCz",
        "outputId": "35a1bc7b-2fcf-436c-af23-3e1217849982"
      },
      "execution_count": 10,
      "outputs": [
        {
          "output_type": "stream",
          "name": "stdout",
          "text": [
            "Looking in indexes: https://pypi.org/simple, https://us-python.pkg.dev/colab-wheels/public/simple/\n",
            "Requirement already satisfied: pprintpp in /usr/local/lib/python3.7/dist-packages (0.4.0)\n"
          ]
        }
      ]
    },
    {
      "cell_type": "code",
      "source": [
        "t = buildTree(df)\n",
        "import pprint\n",
        "pprint.pprint(t)"
      ],
      "metadata": {
        "colab": {
          "base_uri": "https://localhost:8080/"
        },
        "id": "KrlWUCFIpfLR",
        "outputId": "e03f5538-1061-4465-bdbb-8e9a224d3c15"
      },
      "execution_count": 11,
      "outputs": [
        {
          "output_type": "stream",
          "name": "stdout",
          "text": [
            "{'outlook': {'overcast': 'yes',\n",
            "             'rainy': {'windy': {'FALSE': 'yes', 'TRUE': 'no'}},\n",
            "             'sunny': {'humidity': {'high': 'no', 'normal': 'yes'}}}}\n"
          ]
        }
      ]
    },
    {
      "cell_type": "markdown",
      "source": [
        "==========\n",
        "==\n",
        "Kesimpulan\n",
        "==\n",
        "==========\n",
        "==\n",
        "Rumus Entropy dan Information Gain pada materi dan jobsheet sama \n",
        "\n",
        "dan cara implementasinya juga sudah sama"
      ],
      "metadata": {
        "id": "fqIASTyurYSY"
      }
    }
  ]
}